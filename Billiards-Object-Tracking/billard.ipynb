{
 "cells": [
  {
   "attachments": {},
   "cell_type": "markdown",
   "metadata": {},
   "source": [
    "W ramach budowy systemu śledzenia bil wykorzystano nagranie pochodzące z serwisu YouTube, dostępne pod [linkiem](https://www.youtube.com/watch?v=9awGUjKVewk). Film prezentuje fragment rozgrywki z kamery umieszczonej nad stołem bilardowym. Przed przystąpieniem do prac nagranie spowolniono do 20% oryginalnej prędkości oraz wycięto ścieżkę dźwiękową. Na początku zaimportowano niezbędne paczki oraz zdefiniowano sposob wczytywania i wyśwetlania filmu. Przetwarzanie odbywa się w pętli, która w ramach danej iteracji rozpatruje jedną klatke nagrania."
   ]
  },
  {
   "cell_type": "code",
   "execution_count": 61,
   "metadata": {},
   "outputs": [],
   "source": [
    "import numpy as np\n",
    "import cv2"
   ]
  },
  {
   "attachments": {},
   "cell_type": "markdown",
   "metadata": {},
   "source": [
    "Klasa reprezentujaca bilę. Atrybuty x oraz y oznaczają współrzędne bili."
   ]
  },
  {
   "cell_type": "code",
   "execution_count": 62,
   "metadata": {},
   "outputs": [],
   "source": [
    "class Ball:\n",
    "    def __init__(self, x, y):\n",
    "        self.x = x\n",
    "        self.y = y\n",
    "        self.color = None\n",
    "    \n",
    "    \n",
    "    def dist(self, x, y):\n",
    "        return np.sqrt((self.x - x) ** 2 + (self.y - y) ** 2)\n",
    "    \n",
    "    def set_position(self, x, y):\n",
    "        self.x = x\n",
    "        self.y = y\n",
    "        \n",
    "    def delete(self):\n",
    "        self.set_position(None, None)\n",
    "    \n",
    "    def same_position(self, x, y):\n",
    "        if self.x is None and self.y is None:\n",
    "            return False\n",
    "        return self.dist(x, y) < 1"
   ]
  },
  {
   "attachments": {},
   "cell_type": "markdown",
   "metadata": {},
   "source": [
    "Śledzenie rozpoczęto od ekstrkacji bil. Aby zredukować szum posłużono się filtrem Gaussa wyposażonym w jadro o rozmiarze 7x7. Kolejnym krokiem była konwersja klatki z oryginalnej przestrzeni barw na HSV. Następnie na podstawie wartości pikseli odpowiadajacych zielonej powierzchni stołu bilardowego utworzono maskę. Za jej pomocą wyodrębniono zioloną powierzchnię, a następnie dokonano transformacji obrazu do skali szarości, otrzymując jasny wykrywany obiekt na ciemnym tle. Rezultaty obu operacji zobrazowano poniżej:\n",
    "\n",
    "![Ekstrakcja stołu](img/ekstrakcja_stołu.png)\n",
    "\n",
    "![Ekstrakcja stołu w sklai szarości](img/stół_w_skali_szarości.png)\n",
    "\n",
    "Kolejno zastosowano operację progowania z algorytmem OTSU, który adaptacyjnie dobiera wartość progu, minimalizując wariancję intensywności nowo powstałych klas. Zbinaryzowany obraz poddano dylatacji, aby poprawić jakość detekcji, zwiększajac rozmiar wykrytego obiektu. Efekt zaprezentowano poniżej:\n",
    "\n",
    "![Dylatacja stołu](img/stół_po_dylatacji.png)"
   ]
  },
  {
   "cell_type": "code",
   "execution_count": 63,
   "metadata": {},
   "outputs": [],
   "source": [
    "def mask_frame(frame, mask):\n",
    "    new_frame = np.zeros_like(frame, np.uint8)\n",
    "    mask = mask > 0\n",
    "    new_frame[mask] = frame[mask]\n",
    "    return new_frame"
   ]
  },
  {
   "cell_type": "code",
   "execution_count": 64,
   "metadata": {},
   "outputs": [],
   "source": [
    "def get_billiard_balls(frame):\n",
    "    gauss_blur_frame = cv2.GaussianBlur(frame, ksize=(7, 7), sigmaX=0) # 1.41\n",
    "    hsv_frame = cv2.cvtColor(gauss_blur_frame, cv2.COLOR_BGR2HSV)\n",
    "    mask = cv2.inRange(hsv_frame, (36, 100, 100), (70, 255, 255))\n",
    "    masked_frame = mask_frame(gauss_blur_frame, mask)\n",
    "    grey_frame = cv2.cvtColor(masked_frame, cv2.COLOR_BGR2GRAY)\n",
    "    _, binary_frame = cv2.threshold(grey_frame, 128, 255, cv2.THRESH_BINARY|cv2.THRESH_OTSU)\n",
    "    return cv2.dilate(binary_frame, np.ones((1, 1), np.uint8))"
   ]
  },
  {
   "cell_type": "code",
   "execution_count": 65,
   "metadata": {},
   "outputs": [],
   "source": [
    "def mark_balls(frame, billiard_balls):\n",
    "    simple_blob_detector = cv2.SimpleBlobDetector_create()\n",
    "    keypoints = simple_blob_detector.detect(billiard_balls)\n",
    "    marker_color = (255, 0, 0)\n",
    "    keypoints_frame = cv2.drawKeypoints(image=frame, keypoints=keypoints, outImage=np.array([]), color=marker_color, flags=cv2.DRAW_MATCHES_FLAGS_DRAW_RICH_KEYPOINTS)\n",
    "    return keypoints_frame, keypoints"
   ]
  },
  {
   "attachments": {},
   "cell_type": "markdown",
   "metadata": {},
   "source": [
    "Wykrywanie koloru bili rozpoczęto od zebrania wszystkich jej pikseli. Wykorzystano algorytm rozrostu zaprezentowany na labratoriach. Następnie obliczany jest średni kolor z wyodrębnionego fragmentu, który służy do zidentyfikowania koloru bili. Te same funkcje są również używane w dalszym przetwarzaniu kolejnych klatek, gdzie na podstawie punktów kluczowych wyznaczamy nowo rozpoznane bile, poruszone bile oraz rozpoznajemy ich kolor. \n",
    "\n",
    "![Ekstrakcja stołu](img/czerwona_bila.png)"
   ]
  },
  {
   "cell_type": "code",
   "execution_count": 66,
   "metadata": {},
   "outputs": [],
   "source": [
    "def find_neighbours(img, regions, y, x):\n",
    "    neighbours = [(-1, 0), (1, 0), (0, -1), (0, 1)]\n",
    "    c_neighbours = []\n",
    "    for dy, dx in neighbours:\n",
    "        ny, nx = y + dy, x + dx\n",
    "\n",
    "        if ny < 0 or ny >= img.shape[0] or nx < 0 or nx >= img.shape[1]:\n",
    "            continue\n",
    "\n",
    "        if regions[ny, nx] > 0:\n",
    "            continue\n",
    "\n",
    "        if img[ny, nx] > 0:\n",
    "            continue\n",
    "\n",
    "        c_neighbours.append((ny, nx))\n",
    "\n",
    "    return c_neighbours\n",
    "\n",
    "def get_ball_mask(img, x, y):\n",
    "    mask = np.zeros(img.shape)\n",
    "    mask[y, x] = 1\n",
    "\n",
    "    c_neighbours = find_neighbours(img, mask, y, x)\n",
    "    for ny, nx in c_neighbours:\n",
    "        mask[ny, nx] = 1\n",
    "\n",
    "    while len(c_neighbours) > 0:\n",
    "        new_neighbours = []\n",
    "        for ny, nx in c_neighbours:\n",
    "            i_new_neighbours = find_neighbours(img, mask, ny, nx)\n",
    "            for _ny, _nz in i_new_neighbours:\n",
    "                mask[_ny, _nz] = 1\n",
    "\n",
    "            new_neighbours.extend(i_new_neighbours)\n",
    "\n",
    "        c_neighbours = new_neighbours\n",
    "\n",
    "    return mask\n",
    "\n",
    "\n",
    "def hsv_2_color_name(h, s, v):\n",
    "    assignment = [\n",
    "        (v < 0.3, 'black'),\n",
    "        (s < 0.3 and v > 0.65, 'white'),\n",
    "        ((h < 20 or h > 351) and s > 0.7 and v > 0.3, 'red'),\n",
    "        (29 < h < 64 and s > 0.15 and v > 0.3, 'yellow'),\n",
    "        (64 < h < 80 and s > 0.15 and v > 0.3, 'green'),\n",
    "        (80 < h < 255 and s > 0.15 and v > 0.3, 'blue'),\n",
    "        (20 < h < 29 and s > 0.15 and 0.3 < v < 0.75, 'brown')\n",
    "    ]\n",
    "\n",
    "    for a, color in assignment:\n",
    "        if a:\n",
    "            return color\n",
    "    return 'pink'"
   ]
  },
  {
   "cell_type": "code",
   "execution_count": 67,
   "metadata": {},
   "outputs": [],
   "source": [
    "def count_hsv_stats(hsv):\n",
    "    h, s, v = cv2.split(hsv)\n",
    "    new_h = np.mean(h[h > 0])\n",
    "    new_s = np.mean(s[s > 0]) / 255\n",
    "    new_v = np.mean(v[v > 0]) / 255\n",
    "    return new_h, new_s, new_v\n",
    "\n",
    "def colors_of_keypoints(keypoints, frame, billiard_balls):\n",
    "    keypoints_to_colors = []\n",
    "    for keypoint in keypoints:\n",
    "        x, y = keypoint.pt[0], keypoint.pt[1]\n",
    "        mask = get_ball_mask(billiard_balls, int(x), int(y))\n",
    "        masked = mask_frame(frame, mask)\n",
    "        hsv = cv2.cvtColor(masked, cv2.COLOR_BGR2HSV)\n",
    "        h, s, v = count_hsv_stats(hsv)\n",
    "        color = hsv_2_color_name(h, s, v)\n",
    "        keypoints_to_colors.append(((x, y), color))\n",
    "    return keypoints_to_colors"
   ]
  },
  {
   "attachments": {},
   "cell_type": "markdown",
   "metadata": {},
   "source": [
    "Kolejne funkcje służą do śledzenia bil. Jeśli w aktualnej klatce istnieje punkt kluczowy, którego odległość jest mniejsza od 1 to uznajemy go za tą bilę i przypisujemy jej tą pozycję. W drugim przypadku kiedy nie znajdziemy takiego punktu kluczowego w tym samym miejscu to szukamy punktu kluczowego w tym samym kolorze. Na jego podstawie wyznaczamy nową pozycję dla bili, która się poruszyła. W ostatecznym przypadku jeśli zostaje jedna bila niedopasowana i jeden nieprzydzielony punkt kluczowy to pozycja bili zotaje wyznaczona na podstawie tego punktu kluczowego. "
   ]
  },
  {
   "cell_type": "code",
   "execution_count": 68,
   "metadata": {},
   "outputs": [],
   "source": [
    "def find_keypoint_with_same_position(ball, keypoints):\n",
    "    for keypoint in keypoints:\n",
    "        if ball.same_position(*keypoint.pt):\n",
    "            ball.set_position(*keypoint.pt)    \n",
    "            return keypoint\n",
    "\n",
    "def get_moved_balls_keypoints(balls, keypoints):\n",
    "    moved_balls = []\n",
    "    moved_keypoints = list(keypoints[:])\n",
    "    for ball in balls:\n",
    "        found_keypoint = find_keypoint_with_same_position(ball, keypoints)\n",
    "        if found_keypoint is not None:\n",
    "            moved_keypoints.remove(found_keypoint)\n",
    "        else:\n",
    "            moved_balls.append(ball)\n",
    "    return moved_balls, moved_keypoints\n",
    "\n",
    "def find_keypoint_with_same_color(ball, keypoints):\n",
    "    for keypoint in keypoints:\n",
    "        if ball.color == keypoint[1]:\n",
    "            ball.set_position(*keypoint[0])    \n",
    "            return keypoint\n",
    "        \n",
    "def get_mismatched_balls_keypoints(moved_balls, keypoints):\n",
    "    mismatched_balls = []\n",
    "    for ball in moved_balls:\n",
    "        found_keypoint = find_keypoint_with_same_color(ball, keypoints)\n",
    "        if found_keypoint is not None:\n",
    "            keypoints.remove(found_keypoint)\n",
    "        else:\n",
    "            mismatched_balls.append(ball)\n",
    "            \n",
    "    return mismatched_balls, keypoints\n",
    "\n",
    "def process_mismatched_balls_keypoints(mismatched_balls, keypoints):\n",
    "    if len(mismatched_balls) == 1 and len(keypoints) == 1:\n",
    "        ball = mismatched_balls[0]\n",
    "        keypoint = keypoints[0]\n",
    "        x, y = keypoint[0]\n",
    "        ball.x, ball.y = x, y\n",
    "        \n",
    "    for ball in mismatched_balls:\n",
    "        ball.delete()        \n",
    "        \n",
    "def update_balls(balls, keypoints, frame, processed_frame):\n",
    "    moved_balls, moved_keypoints = get_moved_balls_keypoints(balls, keypoints)\n",
    "    keypoints_to_colors = colors_of_keypoints(moved_keypoints, frame, processed_frame)\n",
    "    mismatched_balls, mismatched_keypoints = get_mismatched_balls_keypoints(moved_balls, keypoints_to_colors)\n",
    "    process_mismatched_balls_keypoints(mismatched_balls, mismatched_keypoints)"
   ]
  },
  {
   "cell_type": "code",
   "execution_count": 69,
   "metadata": {},
   "outputs": [],
   "source": [
    "def assign_colors(balls, billiard_balls, frame):\n",
    "    for ball in balls:\n",
    "        mask = get_ball_mask(billiard_balls, int(ball.x), int(ball.y))\n",
    "        masked_frame = mask_frame(frame, mask)\n",
    "        hsv = cv2.cvtColor(masked_frame, cv2.COLOR_BGR2HSV)\n",
    "        h, s, v = count_hsv_stats(hsv)\n",
    "        color = hsv_2_color_name(h, s, v)\n",
    "        ball.color = color\n",
    "    return balls\n",
    "\n",
    "def show_description(frame, balls):\n",
    "    for ball in balls:\n",
    "        if ball.x is not None and ball.y is not None:\n",
    "            x = int(ball.x)\n",
    "            y = int(ball.y)\n",
    "            content = ball.color+' '+str(x)+' '+str(y)\n",
    "            cv2.putText(frame, content, (x, y), cv2.FONT_HERSHEY_TRIPLEX, 0.4, (253, 90, 159), 1, cv2.LINE_AA)\n",
    "    return frame"
   ]
  },
  {
   "attachments": {},
   "cell_type": "markdown",
   "metadata": {},
   "source": [
    "Przetworzenie nagrania w każdej klatce rozpoczyna się od  przekształceń morfologicznych i uzyskania punktów kluczowych. W przypadku pierwszej klatki, następuje utworzenie bil wraz z przypisaniem im kolorów, na podstawie wyodrębnionych regionów. Jeśli jest to kolejna klatka, to zostaje uaktualniona pozycja zaincjowanych na początku bil, na podstawie punktów kluczowych z aktualnej klatki zgodnie z procedurą śledzenia bil. "
   ]
  },
  {
   "cell_type": "code",
   "execution_count": 70,
   "metadata": {},
   "outputs": [],
   "source": [
    "cap = cv2.VideoCapture(\"./bilard.mp4\")\n",
    "cv2.namedWindow('Balls tracking', cv2.WINDOW_NORMAL)\n",
    "cv2.resizeWindow('Balls tracking', 1400, 800)\n",
    "first = True\n",
    "\n",
    "while cap.isOpened():\n",
    "    _, frame = cap.read()\n",
    "    billiard_balls = get_billiard_balls(frame)\n",
    "    keypoints_frame, keypoints = mark_balls(frame, billiard_balls)\n",
    "\n",
    "    if first:\n",
    "        first = False\n",
    "        balls = [Ball(k.pt[0], k.pt[1]) for k in keypoints]\n",
    "        balls = assign_colors(balls, billiard_balls, frame)\n",
    "\n",
    "    update_balls(balls, keypoints, frame, billiard_balls)\n",
    "    keypoints_frame = show_description(keypoints_frame, balls)\n",
    "    cv2.imshow('Balls tracking', keypoints_frame)\n",
    "    if cv2.waitKey(1) == ord('q'):\n",
    "         cap.release()\n",
    "         break\n",
    "cv2.destroyAllWindows()"
   ]
  }
 ],
 "metadata": {
  "kernelspec": {
   "display_name": "Python 3 (ipykernel)",
   "language": "python",
   "name": "python3"
  },
  "language_info": {
   "codemirror_mode": {
    "name": "ipython",
    "version": 3
   },
   "file_extension": ".py",
   "mimetype": "text/x-python",
   "name": "python",
   "nbconvert_exporter": "python",
   "pygments_lexer": "ipython3",
   "version": "3.10.6"
  }
 },
 "nbformat": 4,
 "nbformat_minor": 2
}
